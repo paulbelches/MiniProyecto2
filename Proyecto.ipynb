{
 "cells": [
  {
   "cell_type": "code",
   "execution_count": 2,
   "metadata": {},
   "outputs": [],
   "source": [
    "import numpy as np\n",
    "import matplotlib.pyplot as plt\n",
    "import math\n",
    "import scipy"
   ]
  },
  {
   "cell_type": "markdown",
   "metadata": {},
   "source": [
    "# Mini proyecto #2\n",
    "* Estefanía Barrio - 17927\n",
    "* Paul Belches - 17088"
   ]
  },
  {
   "cell_type": "code",
   "execution_count": 114,
   "metadata": {},
   "outputs": [],
   "source": [
    "np.random.seed(0)"
   ]
  },
  {
   "cell_type": "code",
   "execution_count": 115,
   "metadata": {},
   "outputs": [],
   "source": [
    "intRanValues = (np.random.rand(1000) *50) //1"
   ]
  },
  {
   "cell_type": "code",
   "execution_count": 116,
   "metadata": {},
   "outputs": [],
   "source": [
    "ranValues = (2 * np.random.rand(1000)) - 1"
   ]
  },
  {
   "cell_type": "markdown",
   "metadata": {},
   "source": [
    "## Ejercicio 1"
   ]
  },
  {
   "cell_type": "markdown",
   "metadata": {},
   "source": [
    "### Algoritmo"
   ]
  },
  {
   "cell_type": "markdown",
   "metadata": {},
   "source": [
    "1. Generar un valor enterto positivo I, tal que P(I=j) = pj\n",
    "2. Si I = j, entonces optener el valor de Y = Fj\n",
    "3. X = Y"
   ]
  },
  {
   "cell_type": "markdown",
   "metadata": {},
   "source": [
    "### Demostración"
   ]
  },
  {
   "cell_type": "markdown",
   "metadata": {},
   "source": [
    "$(1) P(X \\le x) = \\frac{P(X \\le x)}{P(I = j)} * P(I = j) = \\newline\n",
    "(2) = \\frac{P(X \\le x)}{P(I = j)} * P(I = j) = \\frac{P(X \\le x \\cap I = j)}{P(I = j)} * P(I = j) = \\newline\n",
    "(3)\\sum_{j=1}^∞  P(X \\le x | I = j)P(I=j)$"
   ]
  },
  {
   "cell_type": "markdown",
   "metadata": {},
   "source": [
    "$(1) P(X \\le x) = \\sum_{j=1}^∞  P(X \\le x | I = j)P(I=j) =\\newline\n",
    "(2) \\sum_{j=1}^∞  P(Yj \\le x )P(I=j)=\\newline\n",
    "(3) \\sum_{j=1}^∞  Fj(x)pj=\\newline\n",
    "(4) Fx(X)\\newline $"
   ]
  },
  {
   "cell_type": "markdown",
   "metadata": {},
   "source": [
    "Haugh,M(2017)Generating Random Variables and Stochastic\n",
    "Processes. Columbia Univ"
   ]
  },
  {
   "cell_type": "markdown",
   "metadata": {},
   "source": [
    "## Ejercicio 2"
   ]
  },
  {
   "cell_type": "code",
   "execution_count": 131,
   "metadata": {},
   "outputs": [],
   "source": [
    "def randomVariableGenerator(fun, values):\n",
    "    return fun(values)"
   ]
  },
  {
   "cell_type": "code",
   "execution_count": 132,
   "metadata": {},
   "outputs": [],
   "source": [
    "SIGMA = 0.5"
   ]
  },
  {
   "cell_type": "code",
   "execution_count": 133,
   "metadata": {},
   "outputs": [],
   "source": [
    "def factorial(x):\n",
    "    r = []\n",
    "    for i in x:\n",
    "        r.append(scipy.math.factorial(i))\n",
    "    return np.asarray(r)"
   ]
  },
  {
   "cell_type": "code",
   "execution_count": 134,
   "metadata": {},
   "outputs": [],
   "source": [
    "def normal(x):\n",
    "    return (1/(SIGMA*(2*math.pi)**0.5))*np.exp(-0.5*(x/SIGMA)**2)"
   ]
  },
  {
   "cell_type": "code",
   "execution_count": 135,
   "metadata": {},
   "outputs": [],
   "source": [
    "def exponencial(x):\n",
    "    return 5*np.exp(-x*5)"
   ]
  },
  {
   "cell_type": "code",
   "execution_count": 136,
   "metadata": {},
   "outputs": [],
   "source": [
    "def poisson(x):\n",
    "    alpha = 10\n",
    "    return np.exp(-alpha)*((alpha**x)/factorial(x))"
   ]
  },
  {
   "cell_type": "code",
   "execution_count": 137,
   "metadata": {},
   "outputs": [],
   "source": [
    "x = ranValues"
   ]
  },
  {
   "cell_type": "code",
   "execution_count": 138,
   "metadata": {},
   "outputs": [],
   "source": [
    "y = randomVariableGenerator(normal, x)"
   ]
  },
  {
   "cell_type": "code",
   "execution_count": 139,
   "metadata": {},
   "outputs": [
    {
     "data": {
      "text/plain": [
       "<BarContainer object of 1000 artists>"
      ]
     },
     "execution_count": 139,
     "metadata": {},
     "output_type": "execute_result"
    },
    {
     "data": {
      "image/png": "[encoded data removed]",
      "text/plain": [
       "<Figure size 432x288 with 1 Axes>"
      ]
     },
     "metadata": {
      "needs_background": "light"
     },
     "output_type": "display_data"
    }
   ],
   "source": [
    "plt.bar(x, y, width=0.05)"
   ]
  },
  {
   "cell_type": "code",
   "execution_count": 140,
   "metadata": {},
   "outputs": [],
   "source": [
    "y = randomVariableGenerator(exponencial, x)"
   ]
  },
  {
   "cell_type": "code",
   "execution_count": 141,
   "metadata": {},
   "outputs": [
    {
     "data": {
      "text/plain": [
       "<BarContainer object of 1000 artists>"
      ]
     },
     "execution_count": 141,
     "metadata": {},
     "output_type": "execute_result"
    },
    {
     "data": {
      "image/png": "[encoded data removed]",
      "text/plain": [
       "<Figure size 432x288 with 1 Axes>"
      ]
     },
     "metadata": {
      "needs_background": "light"
     },
     "output_type": "display_data"
    }
   ],
   "source": [
    "plt.bar(x, y, width=0.05)"
   ]
  },
  {
   "cell_type": "code",
   "execution_count": 142,
   "metadata": {},
   "outputs": [],
   "source": [
    "x = intRanValues"
   ]
  },
  {
   "cell_type": "code",
   "execution_count": 143,
   "metadata": {},
   "outputs": [],
   "source": [
    "y = randomVariableGenerator(poisson, x)"
   ]
  },
  {
   "cell_type": "code",
   "execution_count": 144,
   "metadata": {},
   "outputs": [
    {
     "data": {
      "text/plain": [
       "<BarContainer object of 1000 artists>"
      ]
     },
     "execution_count": 144,
     "metadata": {},
     "output_type": "execute_result"
    },
    {
     "data": {
      "image/png": "[encoded data removed]",
      "text/plain": [
       "<Figure size 432x288 with 1 Axes>"
      ]
     },
     "metadata": {
      "needs_background": "light"
     },
     "output_type": "display_data"
    }
   ],
   "source": [
    "plt.bar(x, y, width=2)"
   ]
  },
  {
   "cell_type": "markdown",
   "metadata": {},
   "source": [
    "## Ejercicio 3"
   ]
  },
  {
   "cell_type": "code",
   "execution_count": 15,
   "metadata": {},
   "outputs": [],
   "source": [
    "def vpn(fn,p):\n",
    "    suma=float(fn[0])\n",
    "    for i in range(len(fn)-1):\n",
    "        t=i+1\n",
    "        value=float(fn[t]/(1+p)**t)\n",
    "        suma=suma+value\n",
    "    return suma\n",
    "    "
   ]
  },
  {
   "cell_type": "code",
   "execution_count": 16,
   "metadata": {},
   "outputs": [],
   "source": [
    "def aver(n):\n",
    "    i=0\n",
    "    s1=0\n",
    "    s2=0\n",
    "    while i<n:\n",
    "        list1=[-float(800),float(np.random.normal(-800,50,1)),float(np.random.normal(-800,100,1)),float(np.random.normal(-700,150,1)),float(np.random.normal(300,200,1)),float(np.random.normal(400,200,1)),float(np.random.normal(500,200,1)),float(np.random.uniform(200,8440,1))]\n",
    "        list2=[-float(900),float(np.random.normal(-600,50,1)),float(np.random.normal(-200,50,1)),float(np.random.normal(-600,100,1)),float(np.random.normal(250,150,1)),float(np.random.normal(350,150,1)),float(np.random.normal(400,150,1)),float(np.random.uniform(1600,6000,1))]\n",
    "        s1=s1+vpn(list1,1/10)\n",
    "        s2=s2+vpn(list2,1/10)\n",
    "        i=i+1\n",
    "    return s1/n,s2/n"
   ]
  },
  {
   "cell_type": "code",
   "execution_count": 17,
   "metadata": {},
   "outputs": [
    {
     "name": "stdout",
     "output_type": "stream",
     "text": [
      "Con  100 iteraciones, la inversion en el proyecto del centro comercial es mejor pues con esa el valor presente neto sera de  487.52006770052407 , mientras que con la inversion en el proyecto hotel el valor presente neto seria de  296.48860192835906\n",
      "Con  1000 iteraciones, la inversion en el proyecto del centro comercial es mejor pues con esa el valor presente neto sera de  503.6714645430553 , mientras que con la inversion en el proyecto hotel el valor presente neto seria de  273.8623797513325\n",
      "Con  10000 iteraciones, la inversion en el proyecto del centro comercial es mejor pues con esa el valor presente neto sera de  493.75410985774045 , mientras que con la inversion en el proyecto hotel el valor presente neto seria de  245.79863099277912\n"
     ]
    }
   ],
   "source": [
    "iter=[100,1000,10000]\n",
    "for i in range(len(iter)):\n",
    "    s1,s2=aver(iter[i])\n",
    "    if s1<s2:\n",
    "        print(\"Con \", str(iter[i]), \"iteraciones, la inversion en el proyecto del centro comercial es mejor pues con esa el valor presente neto sera de \", str(s2), \", mientras que con la inversion en el proyecto hotel el valor presente neto seria de \", str(s1))\n",
    "    else:\n",
    "        print(\"Con \", str(iter[i]), \"iteraciones, la inversion en el proyecto del hotel es mejor pues con esa el valor presente neto sera de \", str(s1), \", mientras que con la inversion en el proyecto centro comercial el valor presente neto seria de \", str(s2))    "
   ]
  },
  {
   "cell_type": "markdown",
   "metadata": {},
   "source": [
    "## Ejercicio 4"
   ]
  },
  {
   "cell_type": "code",
   "execution_count": 14,
   "metadata": {},
   "outputs": [
    {
     "name": "stdout",
     "output_type": "stream",
     "text": [
      "Para  30  dias se tienen los valores de ganancias siguientes\n"
     ]
    },
    {
     "data": {
      "image/png": "[encoded data removed]",
      "text/plain": [
       "<Figure size 432x288 with 1 Axes>"
      ]
     },
     "metadata": {
      "needs_background": "light"
     },
     "output_type": "display_data"
    },
    {
     "name": "stdout",
     "output_type": "stream",
     "text": [
      "Al vendedor le conviene comrpar  10  periodicos\n",
      "Para  365  dias se tienen los valores de ganancias siguientes\n"
     ]
    },
    {
     "data": {
      "image/png": "[encoded data removed]",
      "text/plain": [
       "<Figure size 432x288 with 1 Axes>"
      ]
     },
     "metadata": {
      "needs_background": "light"
     },
     "output_type": "display_data"
    },
    {
     "name": "stdout",
     "output_type": "stream",
     "text": [
      "Al vendedor le conviene comrpar  10  periodicos\n",
      "Para  3650  dias se tienen los valores de ganancias siguientes\n"
     ]
    },
    {
     "data": {
      "image/png": "[encoded data removed]",
      "text/plain": [
       "<Figure size 432x288 with 1 Axes>"
      ]
     },
     "metadata": {
      "needs_background": "light"
     },
     "output_type": "display_data"
    },
    {
     "name": "stdout",
     "output_type": "stream",
     "text": [
      "Al vendedor le conviene comrpar  10  periodicos\n"
     ]
    }
   ],
   "source": [
    "elements=[9,10,11]\n",
    "probs=[0.3,0.4,0.3]\n",
    "cant=[30,365,3650]\n",
    "ganancia=1\n",
    "perdida=-1\n",
    "\n",
    "def hist(canti):\n",
    "    nueve=0\n",
    "    diez=0\n",
    "    once=0\n",
    "    list=np.random.choice(elements,canti,p=probs)\n",
    "    for i in range(canti):\n",
    "        j=int(list[i])\n",
    "        if j==9:\n",
    "            nueve=nueve+ganancia*9\n",
    "            diez=diez+ganancia*9+perdida\n",
    "            once=once+ganancia*9+perdida*2\n",
    "        elif j==10:\n",
    "            nueve=nueve+ganancia*9\n",
    "            diez=diez+ganancia*10\n",
    "            once=once+ganancia*10+perdida\n",
    "        elif j==11:\n",
    "            nueve=nueve+ganancia*9\n",
    "            diez=diez+ganancia*10\n",
    "            once=once+ganancia*11\n",
    "    ganancias=[nueve,diez,once]\n",
    "    nombre=[\"El vendedor compra 9\", \"El vendedor compra 10\", \"El vendedor compra 11\"]\n",
    "    fig,ax=plt.subplots()\n",
    "    barplot=plt.bar(nombre,ganancias,width=0.4)\n",
    "    altura=max(ganancias)*1.5\n",
    "    plt.title(\"Ganancias\")\n",
    "    plt.xlabel(\"Cantidad de periodicos vendidos\")\n",
    "    plt.ylabel(\"Dolares\")\n",
    "    ax.set_ylim(0,altura)\n",
    "    plt.show()\n",
    "    maxi=max(ganancias)\n",
    "    for j in range(3):\n",
    "        val=ganancias[j]\n",
    "        if val==maxi:\n",
    "            print(\"Al vendedor le conviene comrpar \",str(elements[j]),\" periodicos\")\n",
    "        \n",
    "for i in range(len(cant)):\n",
    "    canti=cant[i]\n",
    "    print(\"Para \", str(cant[i]), \" dias se tienen los valores de ganancias siguientes\")\n",
    "    hist(canti)"
   ]
  }
 ],
 "metadata": {
  "kernelspec": {
   "display_name": "Python 3",
   "language": "python",
   "name": "python3"
  },
  "language_info": {
   "codemirror_mode": {
    "name": "ipython",
    "version": 3
   },
   "file_extension": ".py",
   "mimetype": "text/x-python",
   "name": "python",
   "nbconvert_exporter": "python",
   "pygments_lexer": "ipython3",
   "version": "3.8.2"
  }
 },
 "nbformat": 4,
 "nbformat_minor": 4
}
